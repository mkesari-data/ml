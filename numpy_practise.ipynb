{
  "nbformat": 4,
  "nbformat_minor": 0,
  "metadata": {
    "colab": {
      "provenance": [],
      "authorship_tag": "ABX9TyNTQALOX/CS2VWfJ43U+DCu",
      "include_colab_link": true
    },
    "kernelspec": {
      "name": "python3",
      "display_name": "Python 3"
    },
    "language_info": {
      "name": "python"
    }
  },
  "cells": [
    {
      "cell_type": "markdown",
      "metadata": {
        "id": "view-in-github",
        "colab_type": "text"
      },
      "source": [
        "<a href=\"https://colab.research.google.com/github/mkesarids/ml/blob/master/numpy_practise.ipynb\" target=\"_parent\"><img src=\"https://colab.research.google.com/assets/colab-badge.svg\" alt=\"Open In Colab\"/></a>"
      ]
    },
    {
      "cell_type": "code",
      "execution_count": 5,
      "metadata": {
        "id": "8-GSbDcpbj-y"
      },
      "outputs": [],
      "source": [
        "import numpy as np"
      ]
    },
    {
      "cell_type": "markdown",
      "source": [
        "\n",
        "*   numpy arrays can built from lists.\n",
        "*   numpy arrays can hold only homegenious values."
      ],
      "metadata": {
        "id": "ml4h0lpEr__N"
      }
    },
    {
      "cell_type": "code",
      "source": [
        "numbers_array = [23 , 45 , 67]\n",
        "numbersarray = np.array(numbers_array)\n",
        "print(numbersarray)\n",
        "print(type(numbers_array))\n",
        "print(type(numbersarray))"
      ],
      "metadata": {
        "colab": {
          "base_uri": "https://localhost:8080/"
        },
        "id": "CkJteQB4sbup",
        "outputId": "b13efe00-7258-4638-8b99-7d156750824f"
      },
      "execution_count": 3,
      "outputs": [
        {
          "output_type": "stream",
          "name": "stdout",
          "text": [
            "[23 45 67]\n",
            "<class 'list'>\n",
            "<class 'numpy.ndarray'>\n"
          ]
        }
      ]
    },
    {
      "cell_type": "markdown",
      "source": [
        "what happens if we try to store different dattypes:\n",
        "> all values will turn into one type . In this case string.\n",
        "\n"
      ],
      "metadata": {
        "id": "BDw1_7gys6X1"
      }
    },
    {
      "cell_type": "code",
      "source": [
        "diff_values = [12 , 'mohan' , 34.5]\n",
        "diff_array = np.array(diff_values)\n",
        "print(diff_array)"
      ],
      "metadata": {
        "colab": {
          "base_uri": "https://localhost:8080/"
        },
        "id": "R9TFPRN0s-S6",
        "outputId": "249ac9f8-8a04-4f0a-d0e9-5dcaa6d67a99"
      },
      "execution_count": 4,
      "outputs": [
        {
          "output_type": "stream",
          "name": "stdout",
          "text": [
            "['12' 'mohan' '34.5']\n"
          ]
        }
      ]
    },
    {
      "cell_type": "markdown",
      "source": [
        "what happens if we try to mix with boolean and number"
      ],
      "metadata": {
        "id": "RxYnuexotjU3"
      }
    },
    {
      "cell_type": "code",
      "source": [
        "diff_values = [12 , True , False , 34.5]\n",
        "diff_array = np.array(diff_values)\n",
        "print(diff_array)"
      ],
      "metadata": {
        "colab": {
          "base_uri": "https://localhost:8080/"
        },
        "id": "alVN0JGPt9jr",
        "outputId": "bdc30400-81d7-4f70-e10a-f1a93609d92e"
      },
      "execution_count": 6,
      "outputs": [
        {
          "output_type": "stream",
          "name": "stdout",
          "text": [
            "[12.   1.   0.  34.5]\n"
          ]
        }
      ]
    },
    {
      "cell_type": "markdown",
      "source": [
        "what is the separator between elements in list and nd.array\n",
        "> List elements separated with , but nd array does have any separator between elements\n"
      ],
      "metadata": {
        "id": "MmhF0bINuNQ_"
      }
    },
    {
      "cell_type": "code",
      "source": [
        "elements = [12 , 34 ,45]\n",
        "\n",
        "print(type(elements))\n",
        "print(elements)\n",
        "\n",
        "elements_ndarray = np.array(elements)\n",
        "print(type(elements_ndarray))\n",
        "print(elements_ndarray)"
      ],
      "metadata": {
        "colab": {
          "base_uri": "https://localhost:8080/"
        },
        "id": "Zj-xBJVIuTkq",
        "outputId": "a4da0eb6-2860-47fb-848a-6212e9df22cf"
      },
      "execution_count": 9,
      "outputs": [
        {
          "output_type": "stream",
          "name": "stdout",
          "text": [
            "<class 'list'>\n",
            "[12, 34, 45]\n",
            "<class 'numpy.ndarray'>\n",
            "[12 34 45]\n"
          ]
        }
      ]
    },
    {
      "cell_type": "markdown",
      "source": [
        "how 2darray elements behave in datatype and separator\n",
        "\n",
        "*   event it is 2d arryya , it print datatype as nd array\n",
        "*   elements print without separator"
      ],
      "metadata": {
        "id": "vSPYVPRXuydD"
      }
    },
    {
      "cell_type": "code",
      "source": [
        "a = [[1,2,3] , [3 , 4, 5] , [6 , 7 , 8]]\n",
        "\n",
        "numpy_array = np.array(a)\n",
        "\n",
        "print(type(a))\n",
        "\n",
        "print(type(numpy_array))\n",
        "\n",
        "print(a)\n",
        "print(numpy_array)"
      ],
      "metadata": {
        "colab": {
          "base_uri": "https://localhost:8080/"
        },
        "id": "5Y7I9b7Gu3Tu",
        "outputId": "d89a4a66-8bd6-4e38-9770-f221b9444395"
      },
      "execution_count": 10,
      "outputs": [
        {
          "output_type": "stream",
          "name": "stdout",
          "text": [
            "<class 'list'>\n",
            "<class 'numpy.ndarray'>\n",
            "[[1, 2, 3], [3, 4, 5], [6, 7, 8]]\n",
            "[[1 2 3]\n",
            " [3 4 5]\n",
            " [6 7 8]]\n"
          ]
        }
      ]
    },
    {
      "cell_type": "markdown",
      "source": [
        "**arrange function**"
      ],
      "metadata": {
        "id": "EQverNYfmkub"
      }
    },
    {
      "cell_type": "code",
      "source": [
        "import numpy as np\n",
        "nparray = np.arange(start = 0 , stop = 20 , step = 4)\n",
        "print(type(nparray))\n",
        "print(nparray)"
      ],
      "metadata": {
        "colab": {
          "base_uri": "https://localhost:8080/"
        },
        "id": "KxMDOsRlmq13",
        "outputId": "36e56d33-4448-4d3d-dabc-3f77088f26f6"
      },
      "execution_count": 7,
      "outputs": [
        {
          "output_type": "stream",
          "name": "stdout",
          "text": [
            "<class 'numpy.ndarray'>\n",
            "[ 0  4  8 12 16]\n"
          ]
        }
      ]
    },
    {
      "cell_type": "markdown",
      "source": [
        "**  linspace() **   -> This is useful to generate number of samples between start to end and you can provide optiona number of samples also. if not provided default number of samples are 50 , default start point is 0.\n",
        "![image.png](data:image/png;base64,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)"
      ],
      "metadata": {
        "id": "cbiHWfyaqjnF"
      }
    },
    {
      "cell_type": "code",
      "source": [
        "linspacearray = np.linspace (start = 1 , stop = 100, num = 10)\n",
        "\n",
        "print(linspacearray)\n",
        "print(type(linspacearray))\n",
        "linspacearray"
      ],
      "metadata": {
        "colab": {
          "base_uri": "https://localhost:8080/"
        },
        "id": "MiK2LrhNq3By",
        "outputId": "2daf8a27-31c6-438e-ec77-500e1c3cd6e1"
      },
      "execution_count": 12,
      "outputs": [
        {
          "output_type": "stream",
          "name": "stdout",
          "text": [
            "[  1.  12.  23.  34.  45.  56.  67.  78.  89. 100.]\n",
            "<class 'numpy.ndarray'>\n"
          ]
        },
        {
          "output_type": "execute_result",
          "data": {
            "text/plain": [
              "array([  1.,  12.,  23.,  34.,  45.,  56.,  67.,  78.,  89., 100.])"
            ]
          },
          "metadata": {},
          "execution_count": 12
        }
      ]
    },
    {
      "cell_type": "markdown",
      "source": [
        "generate zeros with 3 rows and 5 columns . same as np.ones() also works."
      ],
      "metadata": {
        "id": "lwSD04gIsewb"
      }
    },
    {
      "cell_type": "code",
      "source": [
        "zeroarray = np.zeros((3 , 5 ))\n",
        "zeroarray"
      ],
      "metadata": {
        "colab": {
          "base_uri": "https://localhost:8080/"
        },
        "id": "daAEn4ZIsjTO",
        "outputId": "8b675119-0ead-4895-b88e-ebbe2ad8395d"
      },
      "execution_count": 20,
      "outputs": [
        {
          "output_type": "execute_result",
          "data": {
            "text/plain": [
              "array([[0., 0., 0., 0., 0.],\n",
              "       [0., 0., 0., 0., 0.],\n",
              "       [0., 0., 0., 0., 0.]])"
            ]
          },
          "metadata": {},
          "execution_count": 20
        }
      ]
    },
    {
      "cell_type": "markdown",
      "source": [
        "**eye function -> this generate identity matrix**"
      ],
      "metadata": {
        "id": "dKKjLiTstnI_"
      }
    },
    {
      "cell_type": "code",
      "source": [
        "eyevalues = np.eye(4,4)\n",
        "eyevalues"
      ],
      "metadata": {
        "colab": {
          "base_uri": "https://localhost:8080/"
        },
        "id": "LqbD27Blttrt",
        "outputId": "44cc744a-7591-4652-cb4f-3e246f7b9c63"
      },
      "execution_count": 22,
      "outputs": [
        {
          "output_type": "execute_result",
          "data": {
            "text/plain": [
              "array([[1., 0., 0., 0.],\n",
              "       [0., 1., 0., 0.],\n",
              "       [0., 0., 1., 0.],\n",
              "       [0., 0., 0., 1.]])"
            ]
          },
          "metadata": {},
          "execution_count": 22
        }
      ]
    },
    {
      "cell_type": "markdown",
      "source": [
        "**reshape()**. this function rearrange vlaues. fron one shape to 2d array."
      ],
      "metadata": {
        "id": "OkyhJA289EJu"
      }
    },
    {
      "cell_type": "code",
      "source": [
        "singluararray = np.arange(0,12);\n",
        "print(singluararray)\n",
        "\n",
        "multidimarray = np.reshape(singluararray , (3,4) )\n",
        "print(multidimarray)"
      ],
      "metadata": {
        "colab": {
          "base_uri": "https://localhost:8080/"
        },
        "id": "jJcycalc9OW4",
        "outputId": "05047ba4-9039-4fc9-ffb8-d19ac067ee82"
      },
      "execution_count": 24,
      "outputs": [
        {
          "output_type": "stream",
          "name": "stdout",
          "text": [
            "[ 0  1  2  3  4  5  6  7  8  9 10 11]\n",
            "[[ 0  1  2  3]\n",
            " [ 4  5  6  7]\n",
            " [ 8  9 10 11]]\n"
          ]
        }
      ]
    },
    {
      "cell_type": "markdown",
      "source": [
        "**Arthematic operations**"
      ],
      "metadata": {
        "id": "CpbS6Yi09qie"
      }
    },
    {
      "cell_type": "code",
      "source": [
        "list1 = [1 ,2 , 3]\n",
        "list2 = [4 ,5 , 6]\n",
        "\n",
        "list1+list2"
      ],
      "metadata": {
        "colab": {
          "base_uri": "https://localhost:8080/"
        },
        "id": "gePqcgfR9wwd",
        "outputId": "d07b3f6f-4caa-4f48-ffc3-d35c534242f0"
      },
      "execution_count": 25,
      "outputs": [
        {
          "output_type": "execute_result",
          "data": {
            "text/plain": [
              "[1, 2, 3, 4, 5, 6]"
            ]
          },
          "metadata": {},
          "execution_count": 25
        }
      ]
    },
    {
      "cell_type": "code",
      "source": [
        "farray = np.arange (0 , 4)\n",
        "sarray = np.arange (5 , 9)\n",
        "print(farray)\n",
        "print(sarray)\n",
        "\n",
        "addarray = farray + sarray\n",
        "subarray = sarray - farray\n",
        "mularray = sarray * farray\n",
        "divarray = sarray / farray\n",
        "powarray = sarray ** farray\n",
        "\n",
        "print ('addition',addarray)\n",
        "print ('substract ',subarray)\n",
        "print ('multiplication',mularray)\n",
        "print ('division',divarray)\n",
        "print ('power',powarray)"
      ],
      "metadata": {
        "colab": {
          "base_uri": "https://localhost:8080/"
        },
        "id": "lutctQAE948P",
        "outputId": "e3820d6d-6faa-461c-b22e-5f5a7644c6d1"
      },
      "execution_count": 30,
      "outputs": [
        {
          "output_type": "stream",
          "name": "stdout",
          "text": [
            "[0 1 2 3]\n",
            "[5 6 7 8]\n",
            "addition [ 5  7  9 11]\n",
            "substract  [5 5 5 5]\n",
            "multiplication [ 0  6 14 24]\n",
            "division [       inf 6.         3.5        2.66666667]\n",
            "power [  1   6  49 512]\n"
          ]
        },
        {
          "output_type": "stream",
          "name": "stderr",
          "text": [
            "<ipython-input-30-4dc2094afd81>:9: RuntimeWarning: divide by zero encountered in true_divide\n",
            "  divarray = sarray / farray\n"
          ]
        }
      ]
    },
    {
      "cell_type": "code",
      "source": [
        "farray = np.array ([1 , 2 ,3 ])\n",
        "sarray = np.array ([4 , 5 ,6 , 6])\n",
        "\n",
        "print(farray + sarray)"
      ],
      "metadata": {
        "colab": {
          "base_uri": "https://localhost:8080/",
          "height": 201
        },
        "id": "BGDYw7z9N010",
        "outputId": "e7e1769a-dcee-41a0-c0cd-dc1e90894389"
      },
      "execution_count": 41,
      "outputs": [
        {
          "output_type": "error",
          "ename": "ValueError",
          "evalue": "ignored",
          "traceback": [
            "\u001b[0;31m---------------------------------------------------------------------------\u001b[0m",
            "\u001b[0;31mValueError\u001b[0m                                Traceback (most recent call last)",
            "\u001b[0;32m<ipython-input-41-bd0a4c1c3882>\u001b[0m in \u001b[0;36m<cell line: 4>\u001b[0;34m()\u001b[0m\n\u001b[1;32m      2\u001b[0m \u001b[0msarray\u001b[0m \u001b[0;34m=\u001b[0m \u001b[0mnp\u001b[0m\u001b[0;34m.\u001b[0m\u001b[0marray\u001b[0m \u001b[0;34m(\u001b[0m\u001b[0;34m[\u001b[0m\u001b[0;36m4\u001b[0m \u001b[0;34m,\u001b[0m \u001b[0;36m5\u001b[0m \u001b[0;34m,\u001b[0m\u001b[0;36m6\u001b[0m \u001b[0;34m,\u001b[0m \u001b[0;36m6\u001b[0m\u001b[0;34m]\u001b[0m\u001b[0;34m)\u001b[0m\u001b[0;34m\u001b[0m\u001b[0;34m\u001b[0m\u001b[0m\n\u001b[1;32m      3\u001b[0m \u001b[0;34m\u001b[0m\u001b[0m\n\u001b[0;32m----> 4\u001b[0;31m \u001b[0mprint\u001b[0m\u001b[0;34m(\u001b[0m\u001b[0mfarray\u001b[0m \u001b[0;34m+\u001b[0m \u001b[0msarray\u001b[0m\u001b[0;34m)\u001b[0m\u001b[0;34m\u001b[0m\u001b[0;34m\u001b[0m\u001b[0m\n\u001b[0m",
            "\u001b[0;31mValueError\u001b[0m: operands could not be broadcast together with shapes (3,) (4,) "
          ]
        }
      ]
    },
    {
      "cell_type": "markdown",
      "source": [
        "**matrics multiplication**"
      ],
      "metadata": {
        "id": "Frb_1W9SFqOu"
      }
    },
    {
      "cell_type": "code",
      "source": [
        "firstarray = np.array([1,2 ,3])\n",
        "secondarray = np.array([4,5 ,6])\n",
        "\n",
        "thirdarray= firstarray @ secondarray\n",
        "thirdarray"
      ],
      "metadata": {
        "colab": {
          "base_uri": "https://localhost:8080/"
        },
        "id": "5oemJ2OHFuDv",
        "outputId": "b3a0174b-22d1-4482-d729-aa3935eafd82"
      },
      "execution_count": 32,
      "outputs": [
        {
          "output_type": "execute_result",
          "data": {
            "text/plain": [
              "32"
            ]
          },
          "metadata": {},
          "execution_count": 32
        }
      ]
    },
    {
      "cell_type": "code",
      "source": [
        "firstarray = np.ones((2,3))\n",
        "\n",
        "secondarray = np.array( [ [4,5 ,6] , [1 , 2,3] , [2 , 3,4]])\n",
        "\n",
        "print(firstarray)\n",
        "print(secondarray)\n",
        "\n",
        "thirdarray = firstarray @ secondarray\n",
        "thirdarray"
      ],
      "metadata": {
        "colab": {
          "base_uri": "https://localhost:8080/"
        },
        "id": "jNOEfyhKGG10",
        "outputId": "03cff362-5adb-402e-a0d9-d04c9d395865"
      },
      "execution_count": 37,
      "outputs": [
        {
          "output_type": "stream",
          "name": "stdout",
          "text": [
            "[[1. 1. 1.]\n",
            " [1. 1. 1.]]\n",
            "[[4 5 6]\n",
            " [1 2 3]\n",
            " [2 3 4]]\n"
          ]
        },
        {
          "output_type": "execute_result",
          "data": {
            "text/plain": [
              "array([[ 7., 10., 13.],\n",
              "       [ 7., 10., 13.]])"
            ]
          },
          "metadata": {},
          "execution_count": 37
        }
      ]
    },
    {
      "cell_type": "markdown",
      "source": [
        "**matrix transpose**"
      ],
      "metadata": {
        "id": "mmiJNVaXNCD8"
      }
    },
    {
      "cell_type": "code",
      "source": [
        "multidarray  = np.array ([ [1 , 2, 3 ] , [ 4 , 5 , 6] ])\n",
        "print('before transpose \\n ' , multidarray)\n",
        "aftertranspose = np.transpose(multidarray)\n",
        "print('after transpose \\n' , aftertranspose)"
      ],
      "metadata": {
        "colab": {
          "base_uri": "https://localhost:8080/"
        },
        "id": "sAdJxzbZNFvw",
        "outputId": "75db585b-4101-4550-a5d2-f2f6db0dad56"
      },
      "execution_count": 39,
      "outputs": [
        {
          "output_type": "stream",
          "name": "stdout",
          "text": [
            "before transpose \n",
            "  [[1 2 3]\n",
            " [4 5 6]]\n",
            "after transpose \n",
            " [[1 4]\n",
            " [2 5]\n",
            " [3 6]]\n"
          ]
        }
      ]
    },
    {
      "cell_type": "code",
      "source": [
        "multidarray.T"
      ],
      "metadata": {
        "colab": {
          "base_uri": "https://localhost:8080/"
        },
        "id": "eQNNeurMNkB0",
        "outputId": "66533eba-d30a-4273-d18f-24f128a7e7ec"
      },
      "execution_count": 40,
      "outputs": [
        {
          "output_type": "execute_result",
          "data": {
            "text/plain": [
              "array([[1, 4],\n",
              "       [2, 5],\n",
              "       [3, 6]])"
            ]
          },
          "metadata": {},
          "execution_count": 40
        }
      ]
    },
    {
      "cell_type": "markdown",
      "source": [
        "**random number generation **\n",
        "\n",
        "> Random number genreation based on distributions.\n",
        "\n"
      ],
      "metadata": {
        "id": "BPwMYe2BrT6A"
      }
    },
    {
      "cell_type": "code",
      "source": [
        "import numpy as np\n",
        "randvalues = np.random.random()\n",
        "print(type(randvalues))\n",
        "print(randvalues)"
      ],
      "metadata": {
        "colab": {
          "base_uri": "https://localhost:8080/"
        },
        "id": "SgQ7cB-UrZ7Q",
        "outputId": "86fe3b34-9534-4f6d-de1a-877f1ab685de"
      },
      "execution_count": 2,
      "outputs": [
        {
          "output_type": "stream",
          "name": "stdout",
          "text": [
            "<class 'float'>\n",
            "0.9232286031698616\n"
          ]
        }
      ]
    },
    {
      "cell_type": "markdown",
      "source": [
        "**generate multiple random values**"
      ],
      "metadata": {
        "id": "1KXAfP-tfzwc"
      }
    },
    {
      "cell_type": "code",
      "source": [
        "multiplerandoms = np.random.rand(5)\n",
        "print(type(multiplerandoms))\n",
        "print(multiplerandoms)"
      ],
      "metadata": {
        "colab": {
          "base_uri": "https://localhost:8080/"
        },
        "id": "K3xTiFUDf4B3",
        "outputId": "0d4cb80d-1390-48dc-d434-1d820e6a0fe9"
      },
      "execution_count": 3,
      "outputs": [
        {
          "output_type": "stream",
          "name": "stdout",
          "text": [
            "<class 'numpy.ndarray'>\n",
            "[0.81302787 0.35493687 0.95904408 0.14265279 0.65220199]\n"
          ]
        }
      ]
    },
    {
      "cell_type": "markdown",
      "source": [
        "**Generate multidimentional random values**"
      ],
      "metadata": {
        "id": "k2BwlnIQgLX0"
      }
    },
    {
      "cell_type": "code",
      "source": [
        "multiplerandoms = np.random.rand(3 , 3)\n",
        "print(type(multiplerandoms))\n",
        "print(multiplerandoms)"
      ],
      "metadata": {
        "colab": {
          "base_uri": "https://localhost:8080/"
        },
        "id": "DMyH5z9BgO7G",
        "outputId": "23bedc5a-3429-4cb0-bd8a-9db279697cd9"
      },
      "execution_count": 5,
      "outputs": [
        {
          "output_type": "stream",
          "name": "stdout",
          "text": [
            "<class 'numpy.ndarray'>\n",
            "[[0.80484114 0.54037615 0.62910882]\n",
            " [0.42293005 0.77839649 0.0423807 ]\n",
            " [0.76500134 0.39047267 0.90919517]]\n"
          ]
        }
      ]
    },
    {
      "cell_type": "code",
      "source": [
        "np.random."
      ],
      "metadata": {
        "id": "d2hu4xhPgtBL"
      },
      "execution_count": 7,
      "outputs": []
    }
  ]
}